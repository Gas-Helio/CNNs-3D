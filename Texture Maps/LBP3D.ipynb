{
  "nbformat": 4,
  "nbformat_minor": 0,
  "metadata": {
    "colab": {
      "name": "LBP3D.ipynb",
      "provenance": [],
      "collapsed_sections": []
    },
    "kernelspec": {
      "name": "python3",
      "display_name": "Python 3"
    }
  },
  "cells": [
    {
      "cell_type": "code",
      "metadata": {
        "id": "mdfyZhk5VHro",
        "colab_type": "code",
        "colab": {}
      },
      "source": [
        "import numpy as np"
      ],
      "execution_count": 0,
      "outputs": []
    },
    {
      "cell_type": "code",
      "metadata": {
        "id": "Bcahi603WSF5",
        "colab_type": "code",
        "colab": {}
      },
      "source": [
        "def LBP_3D(img, v):\n",
        "    resul = np.zeros(img.shape)\n",
        "    imgZeros = np.zeros((img.shape[0]+2, img.shape[1]+2, img.shape[2]+2))\n",
        "    imgZeros[1:-1,1:-1,1:-1] = img\n",
        "    for x in range(img.shape[0]):\n",
        "        for y in range(img.shape[1]):\n",
        "            for z in range(img.shape[2]):\n",
        "                resul[x,y,z] = v(imgZeros[x:x+3, y:y+3, z:z+3])\n",
        "    return resul"
      ],
      "execution_count": 0,
      "outputs": []
    },
    {
      "cell_type": "code",
      "metadata": {
        "id": "8nBrYLsXnDWb",
        "colab_type": "code",
        "colab": {}
      },
      "source": [
        "def lbp_v1(img):\n",
        "    locais = [[0,1,1],[1,0,1],[1,1,0],[1,1,2],[1,2,1],[2,1,0]]\n",
        "    binary = ''\n",
        "    for l in locais:\n",
        "        binario += '1' if ((img[l[0],l[1],l[2]]) > img[1,1,1]) else '0'\n",
        "    return int(binary, 2)"
      ],
      "execution_count": 0,
      "outputs": []
    },
    {
      "cell_type": "code",
      "metadata": {
        "id": "vHkWz2MneF_A",
        "colab_type": "code",
        "colab": {}
      },
      "source": [
        "def lbp_v2(img):\n",
        "    bi1, bi2, bi3 = '', '', ''\n",
        "    n1 = img[1,:,:]\n",
        "    n2 = img[:,1,:]\n",
        "    n3 = img[:,:,1]\n",
        "    for i in range(3):\n",
        "        for j in range(3):\n",
        "            if ((i == 1) and (j == 1)):\n",
        "                continue\n",
        "            bi1 += '1' if (n1[i,j] > img[1,1,1]) else '0'\n",
        "            bi2 += '1' if (n2[i,j] > img[1,1,1]) else '0'\n",
        "            bi3 += '1' if (n3[i,j] > img[1,1,1]) else '0'\n",
        "    bi1 = bi1[3] + bi1[:3] + bi1[4] + bi1[:5:-1]\n",
        "    bi2 = bi2[3] + bi2[:3] + bi2[4] + bi2[:5:-1]\n",
        "    bi3 = bi3[3] + bi3[:3] + bi3[4] + bi3[:5:-1]\n",
        "    return (int(bi1, 2) + int(bi2, 2) + int(bi3, 2)) / 3"
      ],
      "execution_count": 0,
      "outputs": []
    },
    {
      "cell_type": "code",
      "metadata": {
        "id": "wbHoPGxs3mQS",
        "colab_type": "code",
        "colab": {}
      },
      "source": [
        "def lbp_v3(img):\n",
        "    bina = ''\n",
        "    for i in range(1,3,1):\n",
        "        for j in range(1,3,1):\n",
        "            for k in range(1,3,1):\n",
        "                if (i == j) and (j == k) and (k == 1):\n",
        "                    continue\n",
        "                bina += '1' if (img[i,j,k] > img[1,1,1]) else '0'\n",
        "    return int(bina, 2)"
      ],
      "execution_count": 0,
      "outputs": []
    },
    {
      "cell_type": "markdown",
      "metadata": {
        "id": "VZSALe6hmyZi",
        "colab_type": "text"
      },
      "source": [
        "Exemple\n",
        "\n",
        "\n",
        "\n",
        "```\n",
        "# LBP_3D(image, lbp_v1)\n",
        "```\n",
        "\n"
      ]
    },
    {
      "cell_type": "code",
      "metadata": {
        "id": "DWAQFAQv4_5G",
        "colab_type": "code",
        "colab": {}
      },
      "source": [
        ""
      ],
      "execution_count": 0,
      "outputs": []
    }
  ]
}